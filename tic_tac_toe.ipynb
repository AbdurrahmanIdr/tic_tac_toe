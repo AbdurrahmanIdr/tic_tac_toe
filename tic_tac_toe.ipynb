{
 "cells": [
  {
   "cell_type": "code",
   "execution_count": null,
   "metadata": {
    "collapsed": true
   },
   "outputs": [],
   "source": [
    "\"\"\"\n",
    "Your task is to write a simple program which pretends to play tic-tac-toe with the user. To make it all easier for you, we've decided to simplify the game. Here are our assumptions:\n",
    "\n",
    "    the computer (i.e., your program) should play the game using 'X's;\n",
    "    the user (e.g., you) should play the game using 'O's;\n",
    "    the first move belongs to the computer − it always puts its first 'X' in the middle of the board;\n",
    "    all the squares are numbered row by row starting with 1 (see the example session below for reference)\n",
    "    the user inputs their move by entering the number of the square they choose − the number must be valid, i.e., it must be an integer, it must be greater than 0 and less than 10, and it cannot point to a field which is already occupied;\n",
    "    the program checks if the game is over − there are four possible verdicts: the game should continue, the game ends with a tie, you win, or the computer wins;\n",
    "    the computer responds with its move and the check is repeated;\n",
    "    don't implement any form of artificial intelligence − a random field choice made by the computer is good enough for the game.\n",
    "\n",
    "The example session with the program may look as follows:\n",
    "+-------+-------+-------+\n",
    "|       |       |       |\n",
    "|   1   |   2   |   3   |\n",
    "|       |       |       |\n",
    "+-------+-------+-------+\n",
    "|       |       |       |\n",
    "|   4   |   X   |   6   |\n",
    "|       |       |       |\n",
    "+-------+-------+-------+\n",
    "|       |       |       |\n",
    "|   7   |   8   |   9   |\n",
    "|       |       |       |\n",
    "+-------+-------+-------+\n",
    "Enter your move: 1\n",
    "+-------+-------+-------+\n",
    "|       |       |       |\n",
    "|   O   |   2   |   3   |\n",
    "|       |       |       |\n",
    "+-------+-------+-------+\n",
    "|       |       |       |\n",
    "|   4   |   X   |   6   |\n",
    "|       |       |       |\n",
    "+-------+-------+-------+\n",
    "|       |       |       |\n",
    "|   7   |   8   |   9   |\n",
    "|       |       |       |\n",
    "+-------+-------+-------+\n",
    "+-------+-------+-------+\n",
    "|       |       |       |\n",
    "|   O   |   X   |   3   |\n",
    "|       |       |       |\n",
    "+-------+-------+-------+\n",
    "|       |       |       |\n",
    "|   4   |   X   |   6   |\n",
    "|       |       |       |\n",
    "+-------+-------+-------+\n",
    "|       |       |       |\n",
    "|   7   |   8   |   9   |\n",
    "|       |       |       |\n",
    "+-------+-------+-------+\n",
    "Enter your move: 8\n",
    "+-------+-------+-------+\n",
    "|       |       |       |\n",
    "|   O   |   X   |   3   |\n",
    "|       |       |       |\n",
    "+-------+-------+-------+\n",
    "|       |       |       |\n",
    "|   4   |   X   |   6   |\n",
    "|       |       |       |\n",
    "+-------+-------+-------+\n",
    "|       |       |       |\n",
    "|   7   |   O   |   9   |\n",
    "|       |       |       |\n",
    "+-------+-------+-------+\n",
    "+-------+-------+-------+\n",
    "|       |       |       |\n",
    "|   O   |   X   |   3   |\n",
    "|       |       |       |\n",
    "+-------+-------+-------+\n",
    "|       |       |       |\n",
    "|   4   |   X   |   X   |\n",
    "|       |       |       |\n",
    "+-------+-------+-------+\n",
    "|       |       |       |\n",
    "|   7   |   O   |   9   |\n",
    "|       |       |       |\n",
    "+-------+-------+-------+\n",
    "Enter your move: 4\n",
    "+-------+-------+-------+\n",
    "|       |       |       |\n",
    "|   O   |   X   |   3   |\n",
    "|       |       |       |\n",
    "+-------+-------+-------+\n",
    "|       |       |       |\n",
    "|   O   |   X   |   X   |\n",
    "|       |       |       |\n",
    "+-------+-------+-------+\n",
    "|       |       |       |\n",
    "|   7   |   O   |   9   |\n",
    "|       |       |       |\n",
    "+-------+-------+-------+\n",
    "+-------+-------+-------+\n",
    "|       |       |       |\n",
    "|   O   |   X   |   X   |\n",
    "|       |       |       |\n",
    "+-------+-------+-------+\n",
    "|       |       |       |\n",
    "|   O   |   X   |   X   |\n",
    "|       |       |       |\n",
    "+-------+-------+-------+\n",
    "|       |       |       |\n",
    "|   7   |   O   |   9   |\n",
    "|       |       |       |\n",
    "+-------+-------+-------+\n",
    "Enter your move: 7\n",
    "+-------+-------+-------+\n",
    "|       |       |       |\n",
    "|   O   |   X   |   X   |\n",
    "|       |       |       |\n",
    "+-------+-------+-------+\n",
    "|       |       |       |\n",
    "|   O   |   X   |   X   |\n",
    "|       |       |       |\n",
    "+-------+-------+-------+\n",
    "|       |       |       |\n",
    "|   O   |   O   |   9   |\n",
    "|       |       |       |\n",
    "+-------+-------+-------+\n",
    "You won!\n",
    "\n",
    "Requirements\n",
    "\n",
    "Implement the following features:\n",
    "\n",
    "    the board should be stored as a three-element list, while each element is another three-element list (the inner lists represent rows) so that all of the squares may be accessed using the following syntax:\n",
    "\n",
    "    board[row][column]\n",
    "\n",
    "\n",
    "    each of the inner list's elements can contain 'O', 'X', or a digit representing the square's number (such a square is considered free)\n",
    "    the board's appearance should be exactly the same as the one presented in the example.\n",
    "    implement the functions defined for you in the editor.\n",
    "\n",
    "\n",
    "Drawing a random integer number can be done by utilizing a Python function called randrange(). The example program below shows how to use it (the program prints ten random numbers from 0 to 8).\n",
    "\n",
    "Note: the from-import instruction provides access to the randrange function defined within an external Python module callled random.\n",
    "from random import randrange\n",
    "\n",
    "for i in range(10):\n",
    "    print(randrange(8))\n",
    "\n",
    "\n",
    "\n",
    "    Sandbox\n",
    "\n",
    "Code\n",
    "def display_board(board):\n",
    "# The function accepts one parameter containing the board's current status\n",
    "# and prints it out to the console.\n",
    "\n",
    "\n",
    "def enter_move(board):\n",
    "# The function accepts the board's current status, asks the user about their move,\n",
    "# checks the input, and updates the board according to the user's decision.\n",
    "\n",
    "\n",
    "def make_list_of_free_fields(board):\n",
    "# The function browses the board and builds a list of all the free squares;\n",
    "# the list consists of tuples, while each tuple is a pair of row and column numbers.\n",
    "\n",
    "\n",
    "def victory_for(board, sign):\n",
    "# The function analyzes the board's status in order to check if\n",
    "# the player using 'O's or 'X's has won the game\n",
    "\n",
    "\n",
    "def draw_move(board):\n",
    "# The function draws the computer's move and updates the board.\n",
    "\n",
    "    Console\n",
    "\"\"\""
   ]
  },
  {
   "cell_type": "code",
   "execution_count": 1,
   "outputs": [
    {
     "name": "stdout",
     "output_type": "stream",
     "text": [
      "+--------+--------+--------+\n",
      "|        |        |        |\n",
      "|   1    |   2    |   3    |\n",
      "|        |        |        |\n",
      "+--------+--------+--------+\n",
      "|        |        |        |\n",
      "|   4    |   X    |   6    |\n",
      "|        |        |        |\n",
      "+--------+--------+--------+\n",
      "|        |        |        |\n",
      "|   7    |   8    |   9    |\n",
      "|        |        |        |\n",
      "+--------+--------+--------+\n",
      "User entered:  3\n",
      "+--------+--------+--------+\n",
      "|        |        |        |\n",
      "|   1    |   2    |   O    |\n",
      "|        |        |        |\n",
      "+--------+--------+--------+\n",
      "|        |        |        |\n",
      "|   4    |   X    |   6    |\n",
      "|        |        |        |\n",
      "+--------+--------+--------+\n",
      "|        |        |        |\n",
      "|   7    |   8    |   9    |\n",
      "|        |        |        |\n",
      "+--------+--------+--------+\n",
      "Computer entered:  2\n",
      "+--------+--------+--------+\n",
      "|        |        |        |\n",
      "|   1    |   X    |   O    |\n",
      "|        |        |        |\n",
      "+--------+--------+--------+\n",
      "|        |        |        |\n",
      "|   4    |   X    |   6    |\n",
      "|        |        |        |\n",
      "+--------+--------+--------+\n",
      "|        |        |        |\n",
      "|   7    |   8    |   9    |\n",
      "|        |        |        |\n",
      "+--------+--------+--------+\n",
      "User entered:  21\n",
      "+--------+--------+--------+\n",
      "|        |        |        |\n",
      "|   1    |   X    |   O    |\n",
      "|        |        |        |\n",
      "+--------+--------+--------+\n",
      "|        |        |        |\n",
      "|   4    |   X    |   6    |\n",
      "|        |        |        |\n",
      "+--------+--------+--------+\n",
      "|        |        |        |\n",
      "|   7    |   8    |   9    |\n",
      "|        |        |        |\n",
      "+--------+--------+--------+\n"
     ]
    },
    {
     "ename": "ValueError",
     "evalue": "21 is not in list",
     "output_type": "error",
     "traceback": [
      "\u001B[1;31m---------------------------------------------------------------------------\u001B[0m",
      "\u001B[1;31mValueError\u001B[0m                                Traceback (most recent call last)",
      "Input \u001B[1;32mIn [1]\u001B[0m, in \u001B[0;36m<cell line: 175>\u001B[1;34m()\u001B[0m\n\u001B[0;32m    171\u001B[0m         \u001B[38;5;28;01mif\u001B[39;00m play \u001B[38;5;241m==\u001B[39m \u001B[38;5;124m'\u001B[39m\u001B[38;5;124mY\u001B[39m\u001B[38;5;124m'\u001B[39m:\n\u001B[0;32m    172\u001B[0m             game()\n\u001B[1;32m--> 175\u001B[0m \u001B[43mstart_game\u001B[49m\u001B[43m(\u001B[49m\u001B[43m)\u001B[49m\n",
      "Input \u001B[1;32mIn [1]\u001B[0m, in \u001B[0;36mstart_game\u001B[1;34m()\u001B[0m\n\u001B[0;32m    167\u001B[0m \u001B[38;5;28;01mdef\u001B[39;00m \u001B[38;5;21mstart_game\u001B[39m():\n\u001B[1;32m--> 168\u001B[0m     s_game \u001B[38;5;241m=\u001B[39m \u001B[43mgame\u001B[49m\u001B[43m(\u001B[49m\u001B[43m)\u001B[49m\n\u001B[0;32m    169\u001B[0m     \u001B[38;5;28;01mif\u001B[39;00m \u001B[38;5;129;01mnot\u001B[39;00m s_game:\n\u001B[0;32m    170\u001B[0m         play \u001B[38;5;241m=\u001B[39m \u001B[38;5;28minput\u001B[39m(\u001B[38;5;124m\"\u001B[39m\u001B[38;5;124mDraw, Do you want to try again? Y or N: \u001B[39m\u001B[38;5;124m\"\u001B[39m)\n",
      "Input \u001B[1;32mIn [1]\u001B[0m, in \u001B[0;36mgame\u001B[1;34m()\u001B[0m\n\u001B[0;32m    151\u001B[0m \u001B[38;5;28mprint\u001B[39m(\u001B[38;5;124m\"\u001B[39m\u001B[38;5;124mUser entered: \u001B[39m\u001B[38;5;124m\"\u001B[39m, value)\n\u001B[0;32m    152\u001B[0m board \u001B[38;5;241m=\u001B[39m user_input(board, value, next_player)\n\u001B[1;32m--> 153\u001B[0m ind \u001B[38;5;241m=\u001B[39m \u001B[43mused_box\u001B[49m\u001B[38;5;241;43m.\u001B[39;49m\u001B[43mindex\u001B[49m\u001B[43m(\u001B[49m\u001B[43mvalue\u001B[49m\u001B[43m)\u001B[49m\n\u001B[0;32m    154\u001B[0m used_box[ind] \u001B[38;5;241m=\u001B[39m \u001B[38;5;124m'\u001B[39m\u001B[38;5;124mO\u001B[39m\u001B[38;5;124m'\u001B[39m\n\u001B[0;32m    156\u001B[0m \u001B[38;5;28;01mif\u001B[39;00m win_checker(\u001B[38;5;124m'\u001B[39m\u001B[38;5;124mO\u001B[39m\u001B[38;5;124m'\u001B[39m, used_box):\n",
      "\u001B[1;31mValueError\u001B[0m: 21 is not in list"
     ]
    }
   ],
   "source": [
    "import random\n",
    "\n",
    "\n",
    "def board_gen():\n",
    "    board: list[list[str]] = [['X' for _ in range(3)] for _ in range(3)]\n",
    "    n = 1\n",
    "    for r in range(3):\n",
    "        for c in range(3):\n",
    "            board[r][c] = n\n",
    "            n += 1\n",
    "    return board\n",
    "\n",
    "\n",
    "def displaying_board(board):\n",
    "    for a in range(3):\n",
    "        for j in range(3):\n",
    "            print('+', end=\"\")\n",
    "            for i in range(8):\n",
    "                print(\"-\", end=\"\")\n",
    "        print(\"+\")\n",
    "        for c in range(3):\n",
    "            for j in range(3):\n",
    "                print('|', end=\"\")\n",
    "                for i in range(8):\n",
    "                    s = ' '\n",
    "                    if c == 1 and i == 3 and a == 0 and j == 0:\n",
    "                        s = board[0][0]\n",
    "                    if c == 1 and i == 3 and a == 0 and j == 1:\n",
    "                        s = board[0][1]\n",
    "                    if c == 1 and i == 3 and a == 0 and j == 2:\n",
    "                        s = board[0][2]\n",
    "                    if c == 1 and i == 3 and a == 1 and j == 0:\n",
    "                        s = board[1][0]\n",
    "                    if c == 1 and i == 3 and a == 1 and j == 1:\n",
    "                        s = board[1][1]\n",
    "                    if c == 1 and i == 3 and a == 1 and j == 2:\n",
    "                        s = board[1][2]\n",
    "                    if c == 1 and i == 3 and a == 2 and j == 0:\n",
    "                        s = board[2][0]\n",
    "                    if c == 1 and i == 3 and a == 2 and j == 1:\n",
    "                        s = board[2][1]\n",
    "                    if c == 1 and i == 3 and a == 2 and j == 2:\n",
    "                        s = board[2][2]\n",
    "                    print(s, end=\"\")\n",
    "            print(\"|\")\n",
    "    for j in range(3):\n",
    "        print('+', end=\"\")\n",
    "        for i in range(8):\n",
    "            print(\"-\", end=\"\")\n",
    "    print(\"+\")\n",
    "\n",
    "\n",
    "def user_input(board=None, ch=0, player='Comp'):\n",
    "    if board is None:\n",
    "        board = board_gen()\n",
    "    if player == 'Comp':\n",
    "        v = \"X\"\n",
    "    else:\n",
    "        v = \"O\"\n",
    "\n",
    "    if ch == 0:\n",
    "        board[1][1] = v\n",
    "    elif ch == 1:\n",
    "        board[0][0] = v\n",
    "    elif ch == 2:\n",
    "        board[0][1] = v\n",
    "    elif ch == 3:\n",
    "        board[0][2] = v\n",
    "    elif ch == 4:\n",
    "        board[1][0] = v\n",
    "    elif ch == 5:\n",
    "        board[1][1] = v\n",
    "    elif ch == 6:\n",
    "        board[1][2] = v\n",
    "    elif ch == 7:\n",
    "        board[2][0] = v\n",
    "    elif ch == 8:\n",
    "        board[2][1] = v\n",
    "    elif ch == 9:\n",
    "        board[2][2] = v\n",
    "\n",
    "    displaying_board(board)\n",
    "    return board\n",
    "\n",
    "\n",
    "def win_checker(win, used_box):\n",
    "    if used_box[0] == win and used_box[1] == win and used_box[2] == win:\n",
    "        return True\n",
    "\n",
    "    elif used_box[3] == win and used_box[4] == win and used_box[5] == win:\n",
    "        return True\n",
    "\n",
    "    elif used_box[6] == win and used_box[7] == win and used_box[8] == win:\n",
    "        return True\n",
    "\n",
    "    elif used_box[0] == win and used_box[3] == win and used_box[6] == win:\n",
    "        return True\n",
    "\n",
    "    elif used_box[1] == win and used_box[4] == win and used_box[7] == win:\n",
    "        return True\n",
    "\n",
    "    elif used_box[2] == win and used_box[5] == win and used_box[8] == win:\n",
    "        return True\n",
    "\n",
    "    elif used_box[0] == win and used_box[4] == win and used_box[8] == win:\n",
    "        return True\n",
    "\n",
    "    elif used_box[2] == win and used_box[4] == win and used_box[6] == win:\n",
    "        return True\n",
    "\n",
    "    else:\n",
    "        return False\n",
    "\n",
    "\n",
    "def game():\n",
    "    used_box = [1, 2, 3, 4, 'X', 6, 7, 8, 9]\n",
    "    no_of_box_remains = 8\n",
    "    board = user_input()\n",
    "    next_player = 'User'\n",
    "    final_check_mate = False\n",
    "    while no_of_box_remains != 0:\n",
    "        if next_player == 'Comp':\n",
    "            comp = random.randrange(1, 10)\n",
    "            if comp not in used_box and 0 < comp <= 9:\n",
    "                continue\n",
    "\n",
    "            elif 0 > comp > 9:\n",
    "                continue\n",
    "\n",
    "            print(\"Computer entered: \", comp)\n",
    "            board = user_input(board, comp, next_player)\n",
    "            ind = used_box.index(comp)\n",
    "            used_box[ind] = 'X'\n",
    "\n",
    "            if win_checker('X', used_box):\n",
    "                print(\"Computer wins\")\n",
    "                final_check_mate = True\n",
    "                break\n",
    "\n",
    "            next_player = 'User'\n",
    "            no_of_box_remains -= 1\n",
    "\n",
    "        else:\n",
    "            value = int(input(\"Please select a box: \"))\n",
    "            if value not in used_box and 0 < value <= 9:\n",
    "                continue\n",
    "\n",
    "            elif 0 > value > 9:\n",
    "                continue\n",
    "\n",
    "            print(\"User entered: \", value)\n",
    "            board = user_input(board, value, next_player)\n",
    "            ind = used_box.index(value)\n",
    "            used_box[ind] = 'O'\n",
    "\n",
    "            if win_checker('O', used_box):\n",
    "                print(\"User wins\")\n",
    "                final_check_mate = True\n",
    "                break\n",
    "\n",
    "            next_player = 'Comp'\n",
    "            no_of_box_remains -= 1\n",
    "\n",
    "    return final_check_mate\n",
    "\n",
    "\n",
    "def start_game():\n",
    "    s_game = game()\n",
    "    if not s_game:\n",
    "        play = input(\"Draw, Do you want to try again? Y or N: \")\n",
    "        if play == 'Y':\n",
    "            game()\n",
    "\n",
    "\n",
    "start_game()\n"
   ],
   "metadata": {
    "collapsed": false,
    "pycharm": {
     "name": "#%%\n"
    }
   }
  },
  {
   "cell_type": "code",
   "execution_count": 7,
   "outputs": [
    {
     "name": "stdout",
     "output_type": "stream",
     "text": [
      "(1, 1, 1, 1)\n"
     ]
    }
   ],
   "source": [
    "tup = 1, + 1,\n",
    "tup = tup + tup\n",
    "print(tup)"
   ],
   "metadata": {
    "collapsed": false,
    "pycharm": {
     "name": "#%%\n"
    }
   }
  },
  {
   "cell_type": "code",
   "execution_count": 6,
   "outputs": [
    {
     "name": "stdout",
     "output_type": "stream",
     "text": [
      "7\n"
     ]
    }
   ],
   "source": [
    "def fun():\n",
    "    k = \"kangaro\"\n",
    "    b = len(k)\n",
    "    p = '0'\n",
    "    a = len(p) * 2\n",
    "    return  (b/a)\n",
    "\n",
    "fun()\n",
    "print(b)"
   ],
   "metadata": {
    "collapsed": false,
    "pycharm": {
     "name": "#%%\n"
    }
   }
  },
  {
   "cell_type": "code",
   "execution_count": 14,
   "outputs": [
    {
     "name": "stdout",
     "output_type": "stream",
     "text": [
      "None\n"
     ]
    }
   ],
   "source": [
    "lisrt = [3, 5, 6, 3, 8]\n",
    "def my_list(lsit):\n",
    "    del lsit[3]\n",
    "    lsit[3] = 2\n",
    "\n",
    "print(my_list(lisrt))"
   ],
   "metadata": {
    "collapsed": false,
    "pycharm": {
     "name": "#%%\n"
    }
   }
  },
  {
   "cell_type": "code",
   "execution_count": 11,
   "outputs": [
    {
     "name": "stdout",
     "output_type": "stream",
     "text": [
      "2\n"
     ]
    }
   ],
   "source": [
    "tup = (1, 2, 4, 5, 6)\n",
    "tup = tup[1:-1]\n",
    "tup = tup[0]\n",
    "print(tup)"
   ],
   "metadata": {
    "collapsed": false,
    "pycharm": {
     "name": "#%%\n"
    }
   }
  },
  {
   "cell_type": "code",
   "execution_count": 12,
   "outputs": [
    {
     "name": "stdout",
     "output_type": "stream",
     "text": [
      "4\n"
     ]
    }
   ],
   "source": [
    "def fun(x):\n",
    "    x += 1\n",
    "    return x\n",
    "\n",
    "x = 2\n",
    "x = fun(x + 1)\n",
    "print(x)"
   ],
   "metadata": {
    "collapsed": false,
    "pycharm": {
     "name": "#%%\n"
    }
   }
  },
  {
   "cell_type": "code",
   "execution_count": 17,
   "outputs": [
    {
     "name": "stdout",
     "output_type": "stream",
     "text": [
      "0 0.2 0.2\n"
     ]
    }
   ],
   "source": [
    "x = 1 // 5\n",
    "y = 1 / 5\n",
    "print(x,y,x+y)"
   ],
   "metadata": {
    "collapsed": false,
    "pycharm": {
     "name": "#%%\n"
    }
   }
  },
  {
   "cell_type": "code",
   "execution_count": 26,
   "outputs": [
    {
     "name": "stdout",
     "output_type": "stream",
     "text": [
      "0\n"
     ]
    }
   ],
   "source": [
    "x = {\"0\":'1', '1':'0'}\n",
    "v = x['1']\n",
    "for k in range(len(x)):\n",
    "    v = x[v]\n",
    "\n",
    "print(v)"
   ],
   "metadata": {
    "collapsed": false,
    "pycharm": {
     "name": "#%%\n"
    }
   }
  },
  {
   "cell_type": "code",
   "execution_count": 19,
   "outputs": [
    {
     "name": "stdout",
     "output_type": "stream",
     "text": [
      "True\n"
     ]
    }
   ],
   "source": [
    "z = 0\n",
    "y = 10\n",
    "x = y < z and z > y or y >z and z < y\n",
    "print(x)"
   ],
   "metadata": {
    "collapsed": false,
    "pycharm": {
     "name": "#%%\n"
    }
   }
  },
  {
   "cell_type": "code",
   "execution_count": 25,
   "outputs": [
    {
     "name": "stdout",
     "output_type": "stream",
     "text": [
      "[-2]\n",
      "1\n"
     ]
    }
   ],
   "source": [
    "lst = [i for i in range(-2,-1)]\n",
    "print(lst)\n",
    "print(len(lst))"
   ],
   "metadata": {
    "collapsed": false,
    "pycharm": {
     "name": "#%%\n"
    }
   }
  },
  {
   "cell_type": "code",
   "execution_count": 29,
   "outputs": [
    {
     "name": "stdout",
     "output_type": "stream",
     "text": [
      "16\n",
      "[0, 1, 4, 9, 16]\n"
     ]
    }
   ],
   "source": [
    "lisd = [x * x for x in range(5)]\n",
    "\n",
    "def fun(l):\n",
    "    print(l[l[2]])\n",
    "    return l\n",
    "\n",
    "print(fun(lisd))"
   ],
   "metadata": {
    "collapsed": false,
    "pycharm": {
     "name": "#%%\n"
    }
   }
  },
  {
   "cell_type": "code",
   "execution_count": 30,
   "outputs": [
    {
     "name": "stdout",
     "output_type": "stream",
     "text": [
      "0.0\n"
     ]
    }
   ],
   "source": [
    "print(0/1)"
   ],
   "metadata": {
    "collapsed": false,
    "pycharm": {
     "name": "#%%\n"
    }
   }
  },
  {
   "cell_type": "code",
   "execution_count": 31,
   "outputs": [
    {
     "ename": "ValueError",
     "evalue": "tuple.index(x): x not in tuple",
     "output_type": "error",
     "traceback": [
      "\u001B[1;31m---------------------------------------------------------------------------\u001B[0m",
      "\u001B[1;31mValueError\u001B[0m                                Traceback (most recent call last)",
      "Input \u001B[1;32mIn [31]\u001B[0m, in \u001B[0;36m<cell line: 2>\u001B[1;34m()\u001B[0m\n\u001B[0;32m      1\u001B[0m foo \u001B[38;5;241m=\u001B[39m (\u001B[38;5;241m1\u001B[39m,\u001B[38;5;241m2\u001B[39m,\u001B[38;5;241m3\u001B[39m)\n\u001B[1;32m----> 2\u001B[0m \u001B[38;5;28mprint\u001B[39m(\u001B[43mfoo\u001B[49m\u001B[38;5;241;43m.\u001B[39;49m\u001B[43mindex\u001B[49m\u001B[43m(\u001B[49m\u001B[38;5;241;43m0\u001B[39;49m\u001B[43m)\u001B[49m)\n",
      "\u001B[1;31mValueError\u001B[0m: tuple.index(x): x not in tuple"
     ]
    }
   ],
   "source": [
    "foo = (1,2,3)\n",
    "print(foo.index(0))"
   ],
   "metadata": {
    "collapsed": false,
    "pycharm": {
     "name": "#%%\n"
    }
   }
  },
  {
   "cell_type": "code",
   "execution_count": 32,
   "outputs": [
    {
     "ename": "TypeError",
     "evalue": "unsupported operand type(s) for *: 'NoneType' and 'NoneType'",
     "output_type": "error",
     "traceback": [
      "\u001B[1;31m---------------------------------------------------------------------------\u001B[0m",
      "\u001B[1;31mTypeError\u001B[0m                                 Traceback (most recent call last)",
      "Input \u001B[1;32mIn [32]\u001B[0m, in \u001B[0;36m<cell line: 1>\u001B[1;34m()\u001B[0m\n\u001B[1;32m----> 1\u001B[0m \u001B[38;5;28mprint\u001B[39m(\u001B[38;5;28;43;01mNone\u001B[39;49;00m\u001B[43m \u001B[49m\u001B[38;5;241;43m*\u001B[39;49m\u001B[43m \u001B[49m\u001B[38;5;28;43;01mNone\u001B[39;49;00m)\n",
      "\u001B[1;31mTypeError\u001B[0m: unsupported operand type(s) for *: 'NoneType' and 'NoneType'"
     ]
    }
   ],
   "source": [
    "print(None * None)"
   ],
   "metadata": {
    "collapsed": false,
    "pycharm": {
     "name": "#%%\n"
    }
   }
  },
  {
   "cell_type": "code",
   "execution_count": 33,
   "outputs": [
    {
     "ename": "SyntaxError",
     "evalue": "invalid syntax. Perhaps you forgot a comma? (197438840.py, line 1)",
     "output_type": "error",
     "traceback": [
      "\u001B[1;36m  Input \u001B[1;32mIn [33]\u001B[1;36m\u001B[0m\n\u001B[1;33m    print(Hello w)\u001B[0m\n\u001B[1;37m          ^\u001B[0m\n\u001B[1;31mSyntaxError\u001B[0m\u001B[1;31m:\u001B[0m invalid syntax. Perhaps you forgot a comma?\n"
     ]
    }
   ],
   "source": [
    "print(Hello w)"
   ],
   "metadata": {
    "collapsed": false,
    "pycharm": {
     "name": "#%%\n"
    }
   }
  },
  {
   "cell_type": "code",
   "execution_count": 34,
   "outputs": [
    {
     "name": "stdout",
     "output_type": "stream",
     "text": [
      "21"
     ]
    }
   ],
   "source": [
    "dct = {}\n",
    "dct['1'] = (1,2)\n",
    "dct['2'] = (2,1)\n",
    "\n",
    "\n",
    "for x in dct.keys():\n",
    "    print(dct[x][1], end=\"\")"
   ],
   "metadata": {
    "collapsed": false,
    "pycharm": {
     "name": "#%%\n"
    }
   }
  },
  {
   "cell_type": "code",
   "execution_count": 37,
   "outputs": [],
   "source": [
    "print = 'p' + 'a'"
   ],
   "metadata": {
    "collapsed": false,
    "pycharm": {
     "name": "#%%\n"
    }
   }
  },
  {
   "cell_type": "code",
   "execution_count": 1,
   "outputs": [
    {
     "name": "stdout",
     "output_type": "stream",
     "text": [
      "0\n"
     ]
    }
   ],
   "source": [
    "print(int(False))"
   ],
   "metadata": {
    "collapsed": false,
    "pycharm": {
     "name": "#%%\n"
    }
   }
  }
 ],
 "metadata": {
  "kernelspec": {
   "display_name": "Python 3",
   "language": "python",
   "name": "python3"
  },
  "language_info": {
   "codemirror_mode": {
    "name": "ipython",
    "version": 2
   },
   "file_extension": ".py",
   "mimetype": "text/x-python",
   "name": "python",
   "nbconvert_exporter": "python",
   "pygments_lexer": "ipython2",
   "version": "2.7.6"
  }
 },
 "nbformat": 4,
 "nbformat_minor": 0
}